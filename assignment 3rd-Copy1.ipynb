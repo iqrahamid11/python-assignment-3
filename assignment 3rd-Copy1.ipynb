{
 "cells": [
  {
   "cell_type": "code",
   "execution_count": 1,
   "id": "921228a1",
   "metadata": {},
   "outputs": [
    {
     "name": "stdout",
     "output_type": "stream",
     "text": [
      "Twinkle, twinkle, little star,\n",
      "         How I wonder what you are!\n",
      "                Up above the world so high,\n",
      "                Like a diamond in the sky.\n",
      "Twinkle, twinkle, little star,\n",
      "         How I wonder what you are\n"
     ]
    }
   ],
   "source": [
    "# 1. Write a Python program to print the following string in a specific format (see the output).\n",
    "\n",
    "print(\"Twinkle, twinkle, little star,\\n         How I wonder what you are!\\n                Up above the world so high,\\n                Like a diamond in the sky.\\nTwinkle, twinkle, little star,\\n         How I wonder what you are\");"
   ]
  },
  {
   "cell_type": "code",
   "execution_count": 2,
   "id": "8b5aad91",
   "metadata": {},
   "outputs": [
    {
     "name": "stdout",
     "output_type": "stream",
     "text": [
      " Python 3\n"
     ]
    }
   ],
   "source": [
    "# 2. Write a Python program to get the Python version you are using\n",
    "\n",
    "version = (\" Python 3\");\n",
    "print(version);"
   ]
  },
  {
   "cell_type": "code",
   "execution_count": 3,
   "id": "94536e07",
   "metadata": {},
   "outputs": [
    {
     "name": "stdout",
     "output_type": "stream",
     "text": [
      "Date Thu, oct 21\n",
      "Time 10:00pm\n"
     ]
    }
   ],
   "source": [
    "# 3. Write a Python program to display the current date and time.\n",
    "\n",
    "date = (\" Thu, oct 21\");\n",
    "time = (\" 10:00pm\");\n",
    "\n",
    "print(\"Date\" + date + \"\\n\" + \"Time\" + time);"
   ]
  },
  {
   "cell_type": "code",
   "execution_count": 1,
   "id": "4cf49a5a",
   "metadata": {},
   "outputs": [
    {
     "name": "stdout",
     "output_type": "stream",
     "text": [
      "Enter your First Name:iqra \n",
      "Enter your Last Name:hamid\n",
      "hamid iqra \n"
     ]
    }
   ],
   "source": [
    "\"\"\" 5. Write a Python program which accepts the user's first and last name and print them in \n",
    "reverse order with a space between them. \"\"\"\n",
    "\n",
    "firstName = input(\"Enter your First Name:\");\n",
    "lastName = input(\"Enter your Last Name:\");\n",
    "\n",
    "print(lastName + \" \" + firstName);"
   ]
  },
  {
   "cell_type": "code",
   "execution_count": 5,
   "id": "b16b7c0c",
   "metadata": {},
   "outputs": [
    {
     "name": "stdout",
     "output_type": "stream",
     "text": [
      "Enter value 1: 3\n",
      "Enter value 2: 6\n",
      "9\n"
     ]
    }
   ],
   "source": [
    "# 6. Write a python program which takes two inputs from user and print them addition\n",
    "\n",
    "num1 = int(input(\"Enter value 1: \"));\n",
    "num2 = int(input(\"Enter value 2: \"));\n",
    "\n",
    "print(num1 + num2);"
   ]
  },
  {
   "cell_type": "code",
   "execution_count": 6,
   "id": "8c7b0fbe",
   "metadata": {},
   "outputs": [
    {
     "name": "stdout",
     "output_type": "stream",
     "text": [
      "Enter English Marks: 80\n",
      "Enter Math Marks: 87\n",
      "Enter Science Marks: 66\n",
      "Enter Urdu Marks: 76\n",
      "Enter Islamiat Marks: 88\n",
      "A\n"
     ]
    }
   ],
   "source": [
    "\"\"\" 7. Write a program which takes 5 inputs from user for different subject’s marks, total it\n",
    "and generate mark sheet using grades ? \"\"\"\n",
    "\n",
    "engNum = int(input(\"Enter English Marks: \"));\n",
    "mathNum = int(input(\"Enter Math Marks: \"));\n",
    "sciNum = int(input(\"Enter Science Marks: \"));\n",
    "urduNum = int(input(\"Enter Urdu Marks: \"));\n",
    "islNum = int(input(\"Enter Islamiat Marks: \"));\n",
    "totalNum = 500;\n",
    "percentage =(engNum + mathNum + sciNum + urduNum + islNum) / totalNum * 100;\n",
    "\n",
    "if percentage < 100 and percentage >= 90:\n",
    "    print(\"A+1\");\n",
    "elif percentage < 90 and percentage >= 80:\n",
    "    print(\"A+\");\n",
    "elif percentage < 80 and percentage >= 70:\n",
    "    print(\"A\");\n",
    "elif percentage < 70 and percentage >= 60:\n",
    "    print(\"B\");  \n",
    "elif percentage < 60 and percentage >= 50:\n",
    "    print(\"C\");\n",
    "elif percentage < 50 and percentage >= 40:\n",
    "    print(\"D\");\n",
    "elif percentage < 40 and percentage >= 33:\n",
    "    print(\"E\");\n",
    "elif percentage < 0 and percentage >= 100:\n",
    "    print(\"Please Enter Youe Correct Percentage\");\n",
    "else:\n",
    "    print(\"Fail\");"
   ]
  },
  {
   "cell_type": "code",
   "execution_count": 5,
   "id": "a80a0ab6",
   "metadata": {},
   "outputs": [
    {
     "name": "stdout",
     "output_type": "stream",
     "text": [
      "Enter a Number: 3\n"
     ]
    },
    {
     "ename": "TypeError",
     "evalue": "unsupported operand type(s) for +: 'int' and 'str'",
     "output_type": "error",
     "traceback": [
      "\u001b[1;31m---------------------------------------------------------------------------\u001b[0m",
      "\u001b[1;31mTypeError\u001b[0m                                 Traceback (most recent call last)",
      "\u001b[1;32m<ipython-input-5-e3103dddf85d>\u001b[0m in \u001b[0;36m<module>\u001b[1;34m\u001b[0m\n\u001b[0;32m      8\u001b[0m     \u001b[0mprint\u001b[0m\u001b[1;33m(\u001b[0m\u001b[0mnumber\u001b[0m \u001b[1;33m+\u001b[0m \u001b[1;34m\"is an even Number\"\u001b[0m\u001b[1;33m)\u001b[0m\u001b[1;33m;\u001b[0m\u001b[1;33m\u001b[0m\u001b[1;33m\u001b[0m\u001b[0m\n\u001b[0;32m      9\u001b[0m \u001b[1;32melse\u001b[0m\u001b[1;33m:\u001b[0m\u001b[1;33m\u001b[0m\u001b[1;33m\u001b[0m\u001b[0m\n\u001b[1;32m---> 10\u001b[1;33m     \u001b[0mprint\u001b[0m\u001b[1;33m(\u001b[0m\u001b[0mnumber\u001b[0m \u001b[1;33m+\u001b[0m \u001b[1;34m\"is an odd Number\"\u001b[0m\u001b[1;33m)\u001b[0m\u001b[1;33m;\u001b[0m\u001b[1;33m\u001b[0m\u001b[1;33m\u001b[0m\u001b[0m\n\u001b[0m\u001b[0;32m     11\u001b[0m \u001b[1;33m\u001b[0m\u001b[0m\n",
      "\u001b[1;31mTypeError\u001b[0m: unsupported operand type(s) for +: 'int' and 'str'"
     ]
    }
   ],
   "source": [
    "\"\"\" 8. Write a program which take input from user and identify that the given number is even\n",
    "or odd? \"\"\"\n",
    "\n",
    "number = int(input(\"Enter a Number: \"));\n",
    "remainder = number % 2;\n",
    "\n",
    "if remainder == 0:\n",
    "    print(number + \"is an even Number\");\n",
    "else:\n",
    "    print(number + \"is an odd Number\");\n",
    "   \n"
   ]
  },
  {
   "cell_type": "code",
   "execution_count": 2,
   "id": "76613874",
   "metadata": {},
   "outputs": [],
   "source": [
    "# 10.Write a Python program to sum all the numeric items in a list?\n",
    "\n",
    "numbers = [3, 4, 6, 2, 8, 9, 7];\n"
   ]
  },
  {
   "cell_type": "code",
   "execution_count": null,
   "id": "f26f1c63",
   "metadata": {},
   "outputs": [],
   "source": [
    "# 9. Write a program which print the length of the list?\n",
    "list = [2,4,5,7,1,6];\n",
    "\n"
   ]
  }
 ],
 "metadata": {
  "kernelspec": {
   "display_name": "Python 3",
   "language": "python",
   "name": "python3"
  },
  "language_info": {
   "codemirror_mode": {
    "name": "ipython",
    "version": 3
   },
   "file_extension": ".py",
   "mimetype": "text/x-python",
   "name": "python",
   "nbconvert_exporter": "python",
   "pygments_lexer": "ipython3",
   "version": "3.8.8"
  }
 },
 "nbformat": 4,
 "nbformat_minor": 5
}
